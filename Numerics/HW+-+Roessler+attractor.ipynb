{
 "cells": [
  {
   "cell_type": "code",
   "execution_count": null,
   "metadata": {},
   "outputs": [],
   "source": [
    "(a, b, c) = (0.1, 0.1, 14)\n",
    "\n",
    "f(t, x) = [\n",
    "    -x[2] - x[3];\n",
    "    x[1] + a * x[2];\n",
    "    b + x[3] * (x[1] - c)\n",
    "]\n",
    "\n",
    "df(t, x) = [\n",
    "    0     -1      -1;\n",
    "    1      a       0;\n",
    "    x[3]   0  x[1]-c;\n",
    "]"
   ]
  },
  {
   "cell_type": "code",
   "execution_count": null,
   "metadata": {
    "collapsed": true
   },
   "outputs": [],
   "source": [
    "# initial values\n",
    "t0 = 0.\n",
    "y0 = [ 10.; 10.; 0 ]\n",
    "\n",
    "h=0.0001\n",
    "T=40;"
   ]
  },
  {
   "cell_type": "code",
   "execution_count": null,
   "metadata": {},
   "outputs": [],
   "source": [
    "#\n",
    "# Newton's method:\n",
    "# F  - a vector-valued function\n",
    "# dF - Jacobian matrix of F\n",
    "# x0 - a starting vector for the Newton iteration\n",
    "#\n",
    "# returns a vector as result\n",
    "#\n",
    "function newton(F, dF, x0, precision = 1.e-8)\n",
    "    x = x0;\n",
    "    for i = 1:100\n",
    "        step = - inv(dF(x)) * F(x)\n",
    "        x = x + step\n",
    "        if (norm(F(x)) < precision)\n",
    "            return x\n",
    "        end\n",
    "    end\n",
    "    error(\"no convergence\")\n",
    "end"
   ]
  },
  {
   "cell_type": "code",
   "execution_count": null,
   "metadata": {},
   "outputs": [],
   "source": [
    "#\n",
    "# (implicit) backward Euler scheme:\n",
    "# f  - rhs of differential equation\n",
    "# df - Jacobian matrix of f\n",
    "# t0 - Initial time\n",
    "# y0 - Initial value\n",
    "# h  - step length\n",
    "# T  - right boundary of time interval [t0,T]\n",
    "#\n",
    "function backward_euler(f, df, t0, y0, h, T)\n",
    "    d = length(y0)\n",
    "    N = convert(Int64, floor((T-t0)/h))\n",
    "    \n",
    "    t = zeros(1, N + 1)\n",
    "    y = zeros(d, N + 1)\n",
    "\n",
    "    # Initial values:\n",
    "    t[1] = t0\n",
    "    y[:,1] = y0\n",
    "\n",
    "    for i = 1:N\n",
    "        t[i+1] = t[i] + h\n",
    "        \n",
    "        G(z) = y[:,i] + h * f(t[i+1], z) - z\n",
    "        dG(z) = h * df(t[i+1], z) - eye(d)\n",
    "        y[:,i+1] = newton(G, dG, y[:,i])\n",
    "    end\n",
    "    \n",
    "    return (t, y)\n",
    "end"
   ]
  },
  {
   "cell_type": "code",
   "execution_count": null,
   "metadata": {},
   "outputs": [],
   "source": [
    "_,y = backward_euler(f, df, t0, y0, h, T);\n",
    "_,y2 = backward_euler(f, df, t0, y0, h/2, T);"
   ]
  },
  {
   "cell_type": "code",
   "execution_count": null,
   "metadata": {},
   "outputs": [],
   "source": [
    "# Plot y[1,:] and y[2,:] over time:\n",
    "figure(figsize=(6,6))\n",
    "plot(y[1,:], y[2,:])\n",
    "plot(y2[1,:], y2[2,:])\n",
    "legend();\n",
    "\n",
    "figure(figsize=(6,6))\n",
    "plot(y[1,:], y[3,:])\n",
    "plot(y2[1,:], y2[3,:])\n",
    "legend();"
   ]
  },
  {
   "cell_type": "code",
   "execution_count": null,
   "metadata": {
    "collapsed": true
   },
   "outputs": [],
   "source": []
  }
 ],
 "metadata": {
  "kernelspec": {
   "display_name": "Julia 0.5.2",
   "language": "julia",
   "name": "julia-0.5"
  },
  "language_info": {
   "file_extension": ".jl",
   "mimetype": "application/julia",
   "name": "julia",
   "version": "0.5.2"
  }
 },
 "nbformat": 4,
 "nbformat_minor": 1
}
