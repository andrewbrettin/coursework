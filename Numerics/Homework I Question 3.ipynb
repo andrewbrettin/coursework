{
 "cells": [
  {
   "cell_type": "code",
   "execution_count": 1,
   "metadata": {
    "collapsed": true
   },
   "outputs": [],
   "source": [
    "import numpy as np"
   ]
  },
  {
   "cell_type": "code",
   "execution_count": 11,
   "metadata": {},
   "outputs": [],
   "source": [
    "U = np.matrix('-0.5 9 -2 1; 0 3 -6 -3; 0 0 2 1; 0 0 0 -1')\n",
    "L = np.matrix('1 0 0 0; 3 1 0 0; -2 1 1 0; 0 -2 3 1')"
   ]
  },
  {
   "cell_type": "code",
   "execution_count": 13,
   "metadata": {},
   "outputs": [
    {
     "name": "stdout",
     "output_type": "stream",
     "text": [
      "[[ -0.5   9.   -2.    1. ]\n",
      " [ -1.5  30.  -12.    0. ]\n",
      " [  1.  -15.    0.   -4. ]\n",
      " [  0.   -6.   18.    8. ]]\n"
     ]
    }
   ],
   "source": [
    "A = L*U\n",
    "print(A)"
   ]
  },
  {
   "cell_type": "code",
   "execution_count": 14,
   "metadata": {},
   "outputs": [
    {
     "data": {
      "text/plain": [
       "3.0000000000000049"
      ]
     },
     "execution_count": 14,
     "metadata": {},
     "output_type": "execute_result"
    }
   ],
   "source": [
    "np.linalg.det(A)"
   ]
  },
  {
   "cell_type": "code",
   "execution_count": 17,
   "metadata": {},
   "outputs": [
    {
     "name": "stdout",
     "output_type": "stream",
     "text": [
      "[[ 414.]\n",
      " [  12.]\n",
      " [ -22.]\n",
      " [  58.]]\n"
     ]
    }
   ],
   "source": [
    "b = np.matrix('3; 3; 2; -4')\n",
    "x = np.linalg.inv(A) * b\n",
    "print(x)"
   ]
  },
  {
   "cell_type": "code",
   "execution_count": 22,
   "metadata": {},
   "outputs": [
    {
     "name": "stdout",
     "output_type": "stream",
     "text": [
      "[[  3.]\n",
      " [ -6.]\n",
      " [ 14.]\n",
      " [-58.]]\n"
     ]
    }
   ],
   "source": [
    "y = np.linalg.inv(L) * b \n",
    "print(y)"
   ]
  },
  {
   "cell_type": "code",
   "execution_count": null,
   "metadata": {
    "collapsed": true
   },
   "outputs": [],
   "source": [
    "#oh thank god"
   ]
  }
 ],
 "metadata": {
  "kernelspec": {
   "display_name": "Python 3",
   "language": "python",
   "name": "python3"
  },
  "language_info": {
   "codemirror_mode": {
    "name": "ipython",
    "version": 3
   },
   "file_extension": ".py",
   "mimetype": "text/x-python",
   "name": "python",
   "nbconvert_exporter": "python",
   "pygments_lexer": "ipython3",
   "version": "3.6.3"
  }
 },
 "nbformat": 4,
 "nbformat_minor": 2
}
