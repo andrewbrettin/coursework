{
 "cells": [
  {
   "cell_type": "code",
   "execution_count": null,
   "metadata": {
    "collapsed": true
   },
   "outputs": [],
   "source": [
    "function makeA(m)\n",
    "    B = [ i == j        ?  4. :\n",
    "      abs(i-j) == 1 ? -1. : 0.\n",
    "          for i in 1:m, j in 1:m ]\n",
    "    A = zeros(m * m, m * m)\n",
    "\n",
    "    for i = 1:m\n",
    "        for j = 1:m\n",
    "            if i == j\n",
    "                A[m*i - m + 1 : m*i, m*j - m + 1: m*j] = B\n",
    "            elseif abs(i - j) == 1\n",
    "                A[m*i - m + 1 : m*i, m*j - m + 1: m*j] = eye(m)            \n",
    "            end\n",
    "        end\n",
    "    end\n",
    "    return A\n",
    "end"
   ]
  }
 ],
 "metadata": {
  "kernelspec": {
   "display_name": "Julia 0.6.1",
   "language": "julia",
   "name": "julia-0.6"
  },
  "language_info": {
   "file_extension": ".jl",
   "mimetype": "application/julia",
   "name": "julia",
   "version": "0.6.1"
  }
 },
 "nbformat": 4,
 "nbformat_minor": 2
}
