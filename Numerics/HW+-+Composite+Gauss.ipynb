{
 "cells": [
  {
   "cell_type": "code",
   "execution_count": 1,
   "metadata": {},
   "outputs": [
    {
     "data": {
      "text/plain": [
       "gauss_3 (generic function with 1 method)"
      ]
     },
     "execution_count": 1,
     "metadata": {},
     "output_type": "execute_result"
    }
   ],
   "source": [
    "function gauss_3(f, a, b)\n",
    "    # Transform points and weights to interval [a,b]\n",
    "    x_1 = (a+b)/2 - (b-a)/2 * sqrt(3/5)\n",
    "    x_2 = (a+b)/2\n",
    "    x_3 = (a+b)/2 + (b-a)/2 * sqrt(3/5)\n",
    "    w_1 = (b-a)/2 * 5/9\n",
    "    w_2 = (b-a)/2 * 8/9\n",
    "    w_3 = (b-a)/2 * 5/9\n",
    "    \n",
    "    return w_1 * f(x_1) + w_2 * f(x_2) + w_3 * f(x_3)\n",
    "end"
   ]
  },
  {
   "cell_type": "code",
   "execution_count": 2,
   "metadata": {},
   "outputs": [
    {
     "data": {
      "text/plain": [
       "composite_gauss_3 (generic function with 1 method)"
      ]
     },
     "execution_count": 2,
     "metadata": {},
     "output_type": "execute_result"
    }
   ],
   "source": [
    "function composite_gauss_3(f, a, b, n)\n",
    "    h = (b - a) / n\n",
    "    sum = 0\n",
    "    for i = 1:n\n",
    "        sum += gauss_3(f, a + (i-1) * h, a + i * h)\n",
    "    end\n",
    "    return sum\n",
    "end"
   ]
  },
  {
   "cell_type": "code",
   "execution_count": 3,
   "metadata": {},
   "outputs": [
    {
     "name": "stdout",
     "output_type": "stream",
     "text": [
      "h=0.5\tJ=3.1415912223828344\t1.4312069587241183e-6\n",
      "h=0.25\tJ=3.141592646339864\t7.249929101504904e-9\n",
      "h=0.125\tJ=3.1415926534762795\t1.135136429297745e-10\n",
      "h=0.0625\tJ=3.1415926535880194\t1.77369230414115e-12\n",
      "h=0.03125\tJ=3.1415926535897656\t2.7533531010703882e-14\n",
      "h=0.015625\tJ=3.1415926535897913\t1.7763568394002505e-15\n",
      "h=0.0078125\tJ=3.141592653589794\t8.881784197001252e-16\n",
      "h=0.00390625\tJ=3.1415926535897936\t4.440892098500626e-16\n"
     ]
    }
   ],
   "source": [
    "f(x)= 4 / (1 + x^2)\n",
    "for i=1:8\n",
    "    J = composite_gauss_3(f, 0, 1, 2^i)\n",
    "    println(\"h=\", 1./2^i, \"\\tJ=\", J, \"\\t\", abs(J - π))\n",
    "end"
   ]
  },
  {
   "cell_type": "code",
   "execution_count": 4,
   "metadata": {},
   "outputs": [
    {
     "data": {
      "text/plain": [
       "7-element Array{Float64,1}:\n",
       " 7.62505\n",
       " 5.99703\n",
       " 5.99997\n",
       " 6.00942\n",
       " 3.9542 \n",
       " 1.0    \n",
       " 1.0    "
      ]
     },
     "execution_count": 4,
     "metadata": {},
     "output_type": "execute_result"
    }
   ],
   "source": [
    "Js = [composite_gauss_3(f, 0, 1, 2^i) for i=1:8]\n",
    "αs = [1 / log(2) * log(abs((Js[i] - π) / (Js[i+1] - π))) for i=1:7]"
   ]
  },
  {
   "cell_type": "code",
   "execution_count": null,
   "metadata": {
    "collapsed": true
   },
   "outputs": [],
   "source": []
  }
 ],
 "metadata": {
  "kernelspec": {
   "display_name": "Julia 0.5.2",
   "language": "julia",
   "name": "julia-0.5"
  },
  "language_info": {
   "file_extension": ".jl",
   "mimetype": "application/julia",
   "name": "julia",
   "version": "0.5.2"
  }
 },
 "nbformat": 4,
 "nbformat_minor": 1
}
