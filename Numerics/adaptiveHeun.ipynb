{
 "cells": [
  {
   "cell_type": "code",
   "execution_count": 1,
   "metadata": {},
   "outputs": [
    {
     "data": {
      "text/plain": [
       "adaptiveHeun (generic function with 1 method)"
      ]
     },
     "execution_count": 1,
     "metadata": {},
     "output_type": "execute_result"
    }
   ],
   "source": [
    "function adaptiveHeun(f, t0, y0, K, ϵ, h0)\n",
    "    \n",
    "    \n",
    "    t = zeros(1, 10000)\n",
    "    y = zeros(1, 10000) # chose large number to guarantee vector is long enough\n",
    "\n",
    "    # Initial values:\n",
    "    t[1] = t0;\n",
    "    y[1] = y0;\n",
    "\n",
    "    i = 1;\n",
    "    while (t[i] < 3)\n",
    "        \n",
    "        h = h0;\n",
    "    \n",
    "        H = 2*h;\n",
    "        tn = t[i] + H;\n",
    "        ynh = y[i-1] + H/2*(f(t[i-1],y[i-1]) + f(t[i-1], y[i-1] + H*f(t[i-1], y[i-1])));\n",
    "        ynh2mid = y[i-1] + H/4*(f(t[i-1],y[i-1]) + f(t[i-1], y[i-1] + H/2*f(t[i-1], y[i-1])));\n",
    "        ynh2 = ynh2mid + H/4*(f(t[i-1]+H/2, ynh2mid) + f(t[i-1]+H/2, ynh2mid + H/2*f(t[i-1]+H/2, ynh2mid)));\n",
    "        τ = (ynh2 - ynh)/((H^3)*(1-2^(-2)));\n",
    "        htilde = (ϵ/(K*(t[i]-t[1])*abs(τ)))^(1/2)\n",
    "        \n",
    "        if (htlde > .25*H)\n",
    "            t[i+1] = tn;\n",
    "            y[i+1] = ((2^2)*ynh2-ynh)/(2^2 - 1);\n",
    "            i = i + 1;\n",
    "        else\n",
    "            H = 2 * htilde;\n",
    "        end\n",
    "        \n",
    "    end\n",
    "    return (t, y)\n",
    "end"
   ]
  },
  {
   "cell_type": "code",
   "execution_count": 2,
   "metadata": {
    "collapsed": true
   },
   "outputs": [],
   "source": [
    "f(t,x) = -200*t*x^2;\n",
    "t0 = -3.;\n",
    "y0 = 1./901;\n",
    "K = 10;\n",
    "ϵ = 10.0^(-5)\n",
    "h0 = 10.0^(-2);"
   ]
  },
  {
   "cell_type": "code",
   "execution_count": null,
   "metadata": {
    "collapsed": true
   },
   "outputs": [],
   "source": []
  }
 ],
 "metadata": {
  "kernelspec": {
   "display_name": "Julia 0.6.1",
   "language": "julia",
   "name": "julia-0.6"
  },
  "language_info": {
   "file_extension": ".jl",
   "mimetype": "application/julia",
   "name": "julia",
   "version": "0.6.1"
  }
 },
 "nbformat": 4,
 "nbformat_minor": 2
}
