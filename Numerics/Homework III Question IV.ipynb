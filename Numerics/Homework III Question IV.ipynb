{
 "cells": [
  {
   "cell_type": "code",
   "execution_count": 1,
   "metadata": {},
   "outputs": [
    {
     "data": {
      "text/plain": [
       "create_matrix (generic function with 1 method)"
      ]
     },
     "execution_count": 1,
     "metadata": {},
     "output_type": "execute_result"
    }
   ],
   "source": [
    "function create_matrix(m)\n",
    "    B = [ i == j        ?  4. :\n",
    "          abs(i-j) == 1 ? -1. : 0.\n",
    "              for i in 1:m, j in 1:m ]\n",
    "    A = zeros(m * m, m * m)\n",
    "\n",
    "    for i = 1:m\n",
    "        for j = 1:m\n",
    "            if i == j\n",
    "                A[m*(i - 1) + 1 : m*i, m*(j - 1) + 1: m*j] = B\n",
    "            elseif abs(i - j) == 1\n",
    "                A[m*(i - 1) + 1 : m*i, m*(j - 1) + 1: m*j] = -eye(m)            \n",
    "            end\n",
    "        end\n",
    "    end\n",
    "    \n",
    "    return A\n",
    "end"
   ]
  },
  {
   "cell_type": "code",
   "execution_count": 2,
   "metadata": {},
   "outputs": [
    {
     "data": {
      "text/plain": [
       "create_rhs (generic function with 1 method)"
      ]
     },
     "execution_count": 2,
     "metadata": {},
     "output_type": "execute_result"
    }
   ],
   "source": [
    "function create_rhs(m)\n",
    "    return ones(m * m)\n",
    "end"
   ]
  },
  {
   "cell_type": "code",
   "execution_count": 3,
   "metadata": {},
   "outputs": [
    {
     "data": {
      "text/plain": [
       "forward_substitution (generic function with 1 method)"
      ]
     },
     "execution_count": 3,
     "metadata": {},
     "output_type": "execute_result"
    }
   ],
   "source": [
    "function forward_substitution(L, b)\n",
    "    m, n = size(L)\n",
    "    if m != n\n",
    "        error(\"argument must be a square matrix\")\n",
    "    end\n",
    "    \n",
    "    x = zeros(n)\n",
    "    for i = 1:n\n",
    "        sum = b[i]\n",
    "        for j = 1:i-1\n",
    "            sum -= L[i,j] * x[j]\n",
    "        end\n",
    "        x[i] = sum / L[i,i]\n",
    "    end \n",
    "    return x\n",
    "end"
   ]
  },
  {
   "cell_type": "code",
   "execution_count": 4,
   "metadata": {},
   "outputs": [
    {
     "data": {
      "text/plain": [
       "diagonal_solve (generic function with 1 method)"
      ]
     },
     "execution_count": 4,
     "metadata": {},
     "output_type": "execute_result"
    }
   ],
   "source": [
    "function diagonal_solve(d, b)\n",
    "    n = length(d)\n",
    "    \n",
    "    x = zeros(n)\n",
    "    for i = 1:n\n",
    "        x[i] = b[i] / d[i]\n",
    "    end \n",
    "    return x\n",
    "end"
   ]
  },
  {
   "cell_type": "code",
   "execution_count": 5,
   "metadata": {},
   "outputs": [
    {
     "data": {
      "text/plain": [
       "iterative_solve (generic function with 3 methods)"
      ]
     },
     "execution_count": 5,
     "metadata": {},
     "output_type": "execute_result"
    }
   ],
   "source": [
    "function iterative_solve(A, b, ω=1, iteration_step, tol=1e-8, max_iter=20000)\n",
    "    m, n = size(A)\n",
    "    if m != n\n",
    "        error(\"Matrix not symmetric.\")\n",
    "    end\n",
    "    if n != length(b)\n",
    "        error(\"Right-hand side has incorrect size\")\n",
    "    end\n",
    "    \n",
    "    x = zeros(n)\n",
    "    r = b - A * x\n",
    "    for k = 1:max_iter\n",
    "        # Update step:\n",
    "        δx = iteration_step(r)\n",
    "        x += δx\n",
    "        \n",
    "        # Convergence check:\n",
    "        r = b - A * x\n",
    "        if (norm(r) / norm(x) <= tol)\n",
    "            return x, k\n",
    "        end\n",
    "    end\n",
    "    return x,k\n",
    "    \n",
    "    error(\"Iterative scheme diverged.\")\n",
    "end"
   ]
  },
  {
   "cell_type": "code",
   "execution_count": 6,
   "metadata": {},
   "outputs": [
    {
     "data": {
      "text/plain": [
       "direct_solve (generic function with 1 method)"
      ]
     },
     "execution_count": 6,
     "metadata": {},
     "output_type": "execute_result"
    }
   ],
   "source": [
    "direct_solve(A) = r -> A\\r"
   ]
  },
  {
   "cell_type": "code",
   "execution_count": 7,
   "metadata": {},
   "outputs": [
    {
     "data": {
      "text/plain": [
       "jacobi_step (generic function with 1 method)"
      ]
     },
     "execution_count": 7,
     "metadata": {},
     "output_type": "execute_result"
    }
   ],
   "source": [
    "jacobi_step(A) = r -> diagonal_solve(diag(A), r)"
   ]
  },
  {
   "cell_type": "code",
   "execution_count": 8,
   "metadata": {},
   "outputs": [
    {
     "data": {
      "text/plain": [
       "gauss_seidel_step (generic function with 1 method)"
      ]
     },
     "execution_count": 8,
     "metadata": {},
     "output_type": "execute_result"
    }
   ],
   "source": [
    "gauss_seidel_step(A) = r -> forward_substitution(tril(A), r)"
   ]
  },
  {
   "cell_type": "code",
   "execution_count": 9,
   "metadata": {},
   "outputs": [
    {
     "data": {
      "text/plain": [
       "sor_matrix (generic function with 1 method)"
      ]
     },
     "execution_count": 9,
     "metadata": {},
     "output_type": "execute_result"
    }
   ],
   "source": [
    "function sor_matrix(A, ω)\n",
    "    D = diagm(diag(A))\n",
    "    L = tril(A,-1)\n",
    "    return 1/ω*D + L\n",
    "end"
   ]
  },
  {
   "cell_type": "code",
   "execution_count": 10,
   "metadata": {},
   "outputs": [
    {
     "data": {
      "text/plain": [
       "sor_step (generic function with 2 methods)"
      ]
     },
     "execution_count": 10,
     "metadata": {},
     "output_type": "execute_result"
    }
   ],
   "source": [
    "sor_step(A, ω=1.6) = r -> forward_substitution(sor_matrix(A, ω), r)"
   ]
  },
  {
   "cell_type": "code",
   "execution_count": 11,
   "metadata": {},
   "outputs": [
    {
     "data": {
      "text/plain": [
       "spr (generic function with 1 method)"
      ]
     },
     "execution_count": 11,
     "metadata": {},
     "output_type": "execute_result"
    }
   ],
   "source": [
    "function spr(A)\n",
    "    return maximum([ abs(λ) for λ in eigvals(A)])\n",
    "end"
   ]
  },
  {
   "cell_type": "code",
   "execution_count": 22,
   "metadata": {
    "collapsed": true
   },
   "outputs": [],
   "source": [
    "last = 6\n",
    "m = [2^k for k = 1:last]\n",
    "k = zeros(last)\n",
    "jacobi_iterations = zeros(last)\n",
    "gauss_seidel_iterations = zeros(last)\n",
    "ω_opt = zeros(last)\n",
    "SOR_iterations = zeros(last)\n",
    "\n",
    "for i in 1:last\n",
    "    A = create_matrix(m[i])\n",
    "    b = create_rhs(m[i])\n",
    "    jacobi_iterations[i] = iterative_solve(A, b, jacobi_step(A))[2];\n",
    "    gauss_seidel_iterations[i] = iterative_solve(A, b, gauss_seidel_step(A))[2];\n",
    "    ω_opt[i] = 2./(1 + sqrt(1 - cos(pi/(m[i] + 1))^2))\n",
    "    SOR_iterations[i] = iterative_solve(A, b, sor_step(A, ω_opt[i]))[2];\n",
    "end"
   ]
  },
  {
   "cell_type": "code",
   "execution_count": 13,
   "metadata": {
    "collapsed": true
   },
   "outputs": [],
   "source": [
    "#using PyPlot\n",
    "#ωs = collect(1.02:0.02:1.98)\n",
    "#ns = [iterative_solve(A, b, sor_step(A, ω))[2] for ω = ωs];\n",
    "#plot(ωs, ns);"
   ]
  },
  {
   "cell_type": "code",
   "execution_count": 29,
   "metadata": {},
   "outputs": [
    {
     "data": {
      "image/png": "[encoded data removed]",
      "text/plain": [
       "PyPlot.Figure(PyObject <matplotlib.figure.Figure object at 0x130c81790>)"
      ]
     },
     "metadata": {},
     "output_type": "display_data"
    }
   ],
   "source": [
    "using PyPlot\n",
    "    plot(m, jacobi_iterations, label = \"Jacobi\", linestyle = \"\", \"+\")\n",
    "    plot(m, gauss_seidel_iterations, label = \"Gauss-Seidel\", linestyle = \"\", \"+\")\n",
    "    plot(m, SOR_iterations, label = \"SOR\", linestyle = \"\", \"+\")\n",
    "legend();"
   ]
  },
  {
   "cell_type": "code",
   "execution_count": null,
   "metadata": {
    "collapsed": true
   },
   "outputs": [],
   "source": []
  }
 ],
 "metadata": {
  "kernelspec": {
   "display_name": "Julia 0.6.1",
   "language": "julia",
   "name": "julia-0.6"
  },
  "language_info": {
   "file_extension": ".jl",
   "mimetype": "application/julia",
   "name": "julia",
   "version": "0.6.1"
  }
 },
 "nbformat": 4,
 "nbformat_minor": 2
}
