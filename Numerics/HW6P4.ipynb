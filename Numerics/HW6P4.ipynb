{
 "cells": [
  {
   "cell_type": "code",
   "execution_count": 1,
   "metadata": {
    "collapsed": true
   },
   "outputs": [],
   "source": [
    "using PyPlot"
   ]
  },
  {
   "cell_type": "code",
   "execution_count": 2,
   "metadata": {},
   "outputs": [
    {
     "data": {
      "text/plain": [
       "Heun (generic function with 1 method)"
      ]
     },
     "execution_count": 2,
     "metadata": {},
     "output_type": "execute_result"
    }
   ],
   "source": [
    "function Heun(f, t0, y0, h, N)\n",
    "    t = zeros(1, N + 1)\n",
    "    y = zeros(1, N + 1)\n",
    "    # Initial values:\n",
    "    t[1] = t0\n",
    "    y[1] = y0\n",
    "    for i = 1:N\n",
    "        t[i+1] = t[i] + h\n",
    "        y[i+1] = y[i] + h * (f(t[i] , y[i]) + f(t[i] + h , y[i] + h * f(t[i], y[i]))) / 2.\n",
    "    end\n",
    "    return (t[N + 1], y[N + 1])\n",
    "end"
   ]
  },
  {
   "cell_type": "code",
   "execution_count": null,
   "metadata": {
    "collapsed": true
   },
   "outputs": [],
   "source": [
    "t0 = -3.\n",
    "T = 6.\n",
    "y0 = 1./901.\n",
    "\n",
    "y_analy(t) = 1. ./ (1 + 100 * t.^2)\n",
    "f(t, x) = -200. * t * x^2\n",
    "\n",
    "m = 2\n",
    "K = 10\n",
    "h0 = 1e-2\n",
    "epsilon = 1e-5\n",
    "\n",
    "t = []\n",
    "y = [] \n",
    "func_count = 0; # counts number of function evaluations\n",
    "\n",
    "push!(t, t0);\n",
    "push!(y, y0);\n",
    "\n",
    "i = 1\n",
    "h = h0;\n",
    "H = 2.*h\n",
    "\n",
    "while (t[i] < T + t0)\n",
    "    tn = t[i] + H\n",
    "    tnh, ynh = Heun(f, t[i], y[i], H, 1)\n",
    "    tnh2, ynh2 = Heun(f, t[i], y[i], H/2, 2)\n",
    "    func_count = func_count + 9;\n",
    "    τ = (ynh2 - ynh) / (H ^(m+1) * (1. - 2.0^(-m)))\n",
    "    htilde = (epsilon / (K * T * norm(τ)))^(1.0/m)\n",
    "    \n",
    "    if (htilde > 0.25*H)\n",
    "        push!(t, tn)\n",
    "        newy = ((2.0^m)*ynh2 - ynh) / (2.0^m - 1);\n",
    "        push!(y, newy)\n",
    "        i = i + 1;\n",
    "        h = h0;\n",
    "        H = 2. * h\n",
    "    else\n",
    "        H = 2.*htilde;\n",
    "    end\n",
    "end"
   ]
  },
  {
   "cell_type": "code",
   "execution_count": null,
   "metadata": {
    "collapsed": true
   },
   "outputs": [],
   "source": [
    "global_err = maximum(abs.(y - y_analy(t)))\n",
    "println(\"Global error: \", global_err)\n",
    "println(\"Function evaluations: \", func_count)"
   ]
  },
  {
   "cell_type": "code",
   "execution_count": null,
   "metadata": {
    "collapsed": true
   },
   "outputs": [],
   "source": [
    "figure(figsize=(4,4))\n",
    "    plot(t[:], y[:], label=\"Adaptive Heun\")\n",
    "    plot(t[:], y_analy(t[:]), label=\"Analytic\")\n",
    "    legend();"
   ]
  },
  {
   "cell_type": "code",
   "execution_count": null,
   "metadata": {
    "collapsed": true
   },
   "outputs": [],
   "source": [
    "function Heunh(f, t0, y0, h, T)\n",
    "    N = convert(Int64, floor(T/h))\n",
    "    t = zeros(1, N + 1)\n",
    "    y = zeros(1, N + 1)\n",
    "    t[1] = t0\n",
    "    y[1] = y0\n",
    "    \n",
    "    for i = 1:N\n",
    "        t[i+1] = t[i] + h\n",
    "        y[i+1] = y[i] + h * (f(t[i], y[i]) + f(t[i] + h, y[i] + h * f(t[i], y[i])))\n",
    "    end\n",
    "    return (t,y)\n",
    "end"
   ]
  },
  {
   "cell_type": "code",
   "execution_count": null,
   "metadata": {
    "collapsed": true
   },
   "outputs": [],
   "source": [
    "hmin = -5\n",
    "hmax = -2\n",
    "harray = logspace(hmin, hmax, 100)\n",
    "d = length(array)\n",
    "const_global_err = zeros(1,d)\n",
    "\n",
    "for i = 1:d\n",
    "    h = harray[i];\n",
    "    th, yh = Heunh(f, t0, y0, h, T)\n",
    "    const_global_err[i] = maximum(abs.(yh - y_analy(th)))\n",
    "end\n",
    "\n",
    "equiv_h = minimum(abs.(const_global_err[:] - global_err));\n",
    "N = convert(Int64, floor(T/equiv_h))\n",
    "func_evals = 3*N;\n",
    "\n",
    "println(\"Comparable h: \", equiv_h)\n",
    "println(\"Function evaluations: \", func_evals)"
   ]
  }
 ],
 "metadata": {
  "kernelspec": {
   "display_name": "Julia 0.6.1",
   "language": "julia",
   "name": "julia-0.6"
  },
  "language_info": {
   "file_extension": ".jl",
   "mimetype": "application/julia",
   "name": "julia",
   "version": "0.6.1"
  }
 },
 "nbformat": 4,
 "nbformat_minor": 2
}
