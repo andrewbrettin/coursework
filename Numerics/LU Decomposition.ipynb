{
 "cells": [
  {
   "cell_type": "code",
   "execution_count": null,
   "metadata": {
    "collapsed": true
   },
   "outputs": [],
   "source": [
    "function lu_decomposition(matrix)\n",
    "    m, n = size(matrix)\n",
    "    if m != n\n",
    "        error(\"argument must be a square matrix\")\n",
    "    end\n",
    "    \n",
    "    L = zeros(n,n)\n",
    "    U = copy(matrix)\n",
    "    \n",
    "    for k = 1:n\n",
    "        L[k,k] = 1.\n",
    "        for i = k+1:n\n",
    "            q = U[i,k] / U[k,k]\n",
    "            L[i,k] = q\n",
    "            U[i,k] = 0.\n",
    "            for j = k+1:n\n",
    "                U[i,j] = U[i,j] - q * U[k,j]\n",
    "            end\n",
    "        end\n",
    "    end\n",
    "\n",
    "    return L, U\n",
    "    \n",
    "end"
   ]
  }
 ],
 "metadata": {
  "kernelspec": {
   "display_name": "Julia 0.6.1",
   "language": "julia",
   "name": "julia-0.6"
  },
  "language_info": {
   "file_extension": ".jl",
   "mimetype": "application/julia",
   "name": "julia",
   "version": "0.6.1"
  }
 },
 "nbformat": 4,
 "nbformat_minor": 2
}
