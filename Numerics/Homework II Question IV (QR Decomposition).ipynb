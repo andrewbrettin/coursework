{
 "cells": [
  {
   "cell_type": "code",
   "execution_count": 2,
   "metadata": {},
   "outputs": [
    {
     "data": {
      "text/plain": [
       "QR_decomposition (generic function with 1 method)"
      ]
     },
     "execution_count": 2,
     "metadata": {},
     "output_type": "execute_result"
    }
   ],
   "source": [
    "function QR_decomposition(A)\n",
    "    #using Gram-Schmidt Orthogonalization\n",
    "    m,n = size(A)\n",
    "    Q = zeros(m,n)\n",
    "    R = zeros(n,n)\n",
    "    for k = 1:n\n",
    "        sum = 0\n",
    "        for i = 1:k-1\n",
    "            sum += dot(A[:,k],Q[:,i])*Q[:,i];\n",
    "            if i < k\n",
    "                R[i,k] = dot(A[:,k],Q[:,i])\n",
    "            end\n",
    "        end\n",
    "        qtilde = A[:,k] - sum\n",
    "        R[k,k] = norm(qtilde)\n",
    "        q = (1/norm(qtilde))*qtilde;\n",
    "        Q[:,k] = q\n",
    "    end\n",
    "        \n",
    "    return Q, R\n",
    "end"
   ]
  },
  {
   "cell_type": "code",
   "execution_count": 9,
   "metadata": {},
   "outputs": [
    {
     "data": {
      "text/plain": [
       "HilbertMatrix (generic function with 1 method)"
      ]
     },
     "execution_count": 9,
     "metadata": {},
     "output_type": "execute_result"
    }
   ],
   "source": [
    "function HilbertMatrix(n)\n",
    "    A = [1/(i + j - 1) for i in 1:n, j in 1:n]\n",
    "end"
   ]
  },
  {
   "cell_type": "code",
   "execution_count": 10,
   "metadata": {},
   "outputs": [
    {
     "data": {
      "text/plain": [
       "3×3 Array{Float64,2}:\n",
       " 1.0       0.5       0.333333\n",
       " 0.5       0.333333  0.25    \n",
       " 0.333333  0.25      0.2     "
      ]
     },
     "execution_count": 10,
     "metadata": {},
     "output_type": "execute_result"
    }
   ],
   "source": [
    "HilbertMatrix(3)"
   ]
  },
  {
   "cell_type": "code",
   "execution_count": 14,
   "metadata": {},
   "outputs": [
    {
     "data": {
      "image/png": "[encoded data removed]",
      "text/plain": [
       "PyPlot.Figure(PyObject <matplotlib.figure.Figure object at 0x1347fef50>)"
      ]
     },
     "metadata": {},
     "output_type": "display_data"
    }
   ],
   "source": [
    "x = range(1,8)\n",
    "y = zeros(8)\n",
    "for k in x\n",
    "    n = 2^k\n",
    "    A = HilbertMatrix(n)\n",
    "    Q,R = QR_decomposition(A)\n",
    "    y[k] = norm(A - Q*R, Inf)\n",
    "end\n",
    "\n",
    "using PyPlot\n",
    "figure(figsize = (6, 6))\n",
    "    plot(x, y, linestyle = \"-\", marker = \"\", color = \"b\", label = L\"$||A - QR||_{∞} $\")\n",
    "legend();"
   ]
  },
  {
   "cell_type": "code",
   "execution_count": null,
   "metadata": {
    "collapsed": true
   },
   "outputs": [],
   "source": []
  }
 ],
 "metadata": {
  "kernelspec": {
   "display_name": "Julia 0.6.1",
   "language": "julia",
   "name": "julia-0.6"
  },
  "language_info": {
   "file_extension": ".jl",
   "mimetype": "application/julia",
   "name": "julia",
   "version": "0.6.1"
  }
 },
 "nbformat": 4,
 "nbformat_minor": 2
}
