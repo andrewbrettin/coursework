{
 "cells": [
  {
   "cell_type": "code",
   "execution_count": 1,
   "metadata": {},
   "outputs": [
    {
     "data": {
      "text/plain": [
       "lu_decomposition (generic function with 1 method)"
      ]
     },
     "execution_count": 1,
     "metadata": {},
     "output_type": "execute_result"
    }
   ],
   "source": [
    "#\n",
    "# Compute the LU decomposition of a matrix using Gaussian elimination (without pivoting):\n",
    "#\n",
    "\n",
    "function lu_decomposition(matrix)\n",
    "    m, n = size(matrix)\n",
    "    if m != n\n",
    "        error(\"argument must be a square matrix\")\n",
    "    end\n",
    "    \n",
    "    L = zeros(n,n)\n",
    "    U = copy(matrix)\n",
    "    \n",
    "    for k = 1:n\n",
    "        L[k,k] = 1.\n",
    "        for i = k+1:n\n",
    "            q = U[i,k] / U[k,k]\n",
    "            L[i,k] = q\n",
    "            U[i,k] = 0.\n",
    "            for j = k+1:n\n",
    "                U[i,j] = U[i,j] - q * U[k,j]\n",
    "            end\n",
    "        end\n",
    "    end\n",
    "\n",
    "    return L, U\n",
    "    \n",
    "end"
   ]
  },
  {
   "cell_type": "code",
   "execution_count": 13,
   "metadata": {},
   "outputs": [
    {
     "data": {
      "text/plain": [
       "Cholesky_decomposition (generic function with 1 method)"
      ]
     },
     "execution_count": 13,
     "metadata": {},
     "output_type": "execute_result"
    }
   ],
   "source": [
    "function Cholesky_decomposition(matrix)\n",
    "    # A = LDL^T\n",
    "    # A = L̃L̃^T\n",
    "    H, U = lu_decomposition(matrix)\n",
    "    n = size(matrix)\n",
    "    D = diag(U)\n",
    "    L = zeros(n, n)\n",
    "    L[i,j] = [U[j,i]/d[i] for i = 1:n, j = 1:n]\n",
    "    L̃ = L * diagm(sqrt.(D))\n",
    "    return L, D, L̃\n",
    "end"
   ]
  },
  {
   "cell_type": "code",
   "execution_count": 11,
   "metadata": {},
   "outputs": [
    {
     "data": {
      "text/plain": [
       "3×3 Array{Float64,2}:\n",
       "  2.0  -1.0   0.0\n",
       " -1.0   2.0  -1.0\n",
       "  0.0  -1.0   2.0"
      ]
     },
     "execution_count": 11,
     "metadata": {},
     "output_type": "execute_result"
    }
   ],
   "source": [
    "A = [\n",
    "    2. -1 0;\n",
    "    -1 2 -1;\n",
    "    0 -1 2;\n",
    "]"
   ]
  },
  {
   "cell_type": "code",
   "execution_count": 12,
   "metadata": {},
   "outputs": [
    {
     "ename": "LoadError",
     "evalue": "\u001b[91mMethodError: Cannot `convert` an object of type Tuple{Int64,Int64} to an object of type Int64\nThis may have arisen from a call to the constructor Int64(...),\nsince type constructors fall back to convert methods.\u001b[39m",
     "output_type": "error",
     "traceback": [
      "\u001b[91mMethodError: Cannot `convert` an object of type Tuple{Int64,Int64} to an object of type Int64\nThis may have arisen from a call to the constructor Int64(...),\nsince type constructors fall back to convert methods.\u001b[39m",
      "",
      "Stacktrace:",
      " [1] \u001b[1mCholesky_decomposition\u001b[22m\u001b[22m\u001b[1m(\u001b[22m\u001b[22m::Array{Float64,2}\u001b[1m)\u001b[22m\u001b[22m at \u001b[1m./In[10]:7\u001b[22m\u001b[22m",
      " [2] \u001b[1minclude_string\u001b[22m\u001b[22m\u001b[1m(\u001b[22m\u001b[22m::String, ::String\u001b[1m)\u001b[22m\u001b[22m at \u001b[1m./loading.jl:522\u001b[22m\u001b[22m"
     ]
    }
   ],
   "source": [
    "L, U, Lp = Cholesky_decomposition(A)\n"
   ]
  },
  {
   "cell_type": "code",
   "execution_count": null,
   "metadata": {
    "collapsed": true
   },
   "outputs": [],
   "source": []
  }
 ],
 "metadata": {
  "kernelspec": {
   "display_name": "Julia 0.6.1",
   "language": "julia",
   "name": "julia-0.6"
  },
  "language_info": {
   "file_extension": ".jl",
   "mimetype": "application/julia",
   "name": "julia",
   "version": "0.6.1"
  }
 },
 "nbformat": 4,
 "nbformat_minor": 2
}
