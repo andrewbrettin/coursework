{
 "cells": [
  {
   "cell_type": "code",
   "execution_count": 1,
   "metadata": {},
   "outputs": [
    {
     "data": {
      "text/plain": [
       "gauss_elim (generic function with 1 method)"
      ]
     },
     "execution_count": 1,
     "metadata": {},
     "output_type": "execute_result"
    }
   ],
   "source": [
    "function gauss_elim(A)\n",
    "    n = size(A)\n",
    "    L = zeros(n,n) + eye(n)\n",
    "    U = copy(A)\n",
    "    P = eye(n)\n",
    "    for k in 1:n\n",
    "        # Find kth pivot\n",
    "        max = abs(A[k,k])\n",
    "        Pk = eye(n)\n",
    "        for i in k:n\n",
    "            if abs(A[i,k]) > max\n",
    "                max = abs(A[i,k])\n",
    "                Pk = permutation_matrix(n, i, k)\n",
    "            end\n",
    "        end\n",
    "        # Singularity check\n",
    "        \n",
    "        # Update permutation matrix\n",
    "        P = Pk*P\n",
    "        # Swap rows\n",
    "        U = Pk*U\n",
    "        #Eliminate column of below pivot:\n",
    "        for i = k + 1 : n\n",
    "            q = U[i,k] / U[k,k]\n",
    "            L[i,k] = q\n",
    "            U[i,k] = 0\n",
    "            #Perform row operations\n",
    "            for j = k + 1 : n\n",
    "                U[i,j] = U[i, j] - q * U[k,j]\n",
    "            end\n",
    "        end\n",
    "    end\n",
    "    return L, U, P\n",
    "end"
   ]
  },
  {
   "cell_type": "code",
   "execution_count": 2,
   "metadata": {},
   "outputs": [
    {
     "data": {
      "text/plain": [
       "permutation_matrix (generic function with 1 method)"
      ]
     },
     "execution_count": 2,
     "metadata": {},
     "output_type": "execute_result"
    }
   ],
   "source": [
    "function permutation_matrix(n, row, col)\n",
    "    P = eye(n)\n",
    "    P[row, row] = 0;\n",
    "    P[col, col] = 0;\n",
    "    P[row, col] = 1;\n",
    "    P[col, row] = 1;\n",
    "    return P;\n",
    "end"
   ]
  },
  {
   "cell_type": "code",
   "execution_count": 3,
   "metadata": {},
   "outputs": [
    {
     "data": {
      "text/plain": [
       "3×3 Array{Int64,2}:\n",
       " 3  1  6\n",
       " 2  1  3\n",
       " 1  1  1"
      ]
     },
     "execution_count": 3,
     "metadata": {},
     "output_type": "execute_result"
    }
   ],
   "source": [
    "A = [\n",
    "    3 1 6;\n",
    "    2 1 3;\n",
    "    1 1 1;\n",
    "]"
   ]
  },
  {
   "cell_type": "code",
   "execution_count": 4,
   "metadata": {},
   "outputs": [
    {
     "ename": "LoadError",
     "evalue": "\u001b[91mMethodError: Cannot `convert` an object of type Tuple{Int64,Int64} to an object of type Int64\nThis may have arisen from a call to the constructor Int64(...),\nsince type constructors fall back to convert methods.\u001b[39m",
     "output_type": "error",
     "traceback": [
      "\u001b[91mMethodError: Cannot `convert` an object of type Tuple{Int64,Int64} to an object of type Int64\nThis may have arisen from a call to the constructor Int64(...),\nsince type constructors fall back to convert methods.\u001b[39m",
      "",
      "Stacktrace:",
      " [1] \u001b[1mgauss_elim\u001b[22m\u001b[22m\u001b[1m(\u001b[22m\u001b[22m::Array{Int64,2}\u001b[1m)\u001b[22m\u001b[22m at \u001b[1m./In[1]:3\u001b[22m\u001b[22m",
      " [2] \u001b[1minclude_string\u001b[22m\u001b[22m\u001b[1m(\u001b[22m\u001b[22m::String, ::String\u001b[1m)\u001b[22m\u001b[22m at \u001b[1m./loading.jl:522\u001b[22m\u001b[22m"
     ]
    }
   ],
   "source": [
    "L, U, P = gauss_elim(A)\n",
    "U"
   ]
  },
  {
   "cell_type": "code",
   "execution_count": null,
   "metadata": {
    "collapsed": true
   },
   "outputs": [],
   "source": []
  }
 ],
 "metadata": {
  "kernelspec": {
   "display_name": "Julia 0.6.1",
   "language": "julia",
   "name": "julia-0.6"
  },
  "language_info": {
   "file_extension": ".jl",
   "mimetype": "application/julia",
   "name": "julia",
   "version": "0.6.1"
  }
 },
 "nbformat": 4,
 "nbformat_minor": 2
}
