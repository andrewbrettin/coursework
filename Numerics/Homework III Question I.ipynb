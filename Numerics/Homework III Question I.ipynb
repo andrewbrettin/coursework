{
 "cells": [
  {
   "cell_type": "code",
   "execution_count": 9,
   "metadata": {},
   "outputs": [
    {
     "data": {
      "text/plain": [
       "3×3 Array{Float64,2}:\n",
       "  0.0          -1.0     0.0\n",
       " -2.77556e-17  -0.2    -0.8\n",
       "  0.0           0.325   0.3"
      ]
     },
     "execution_count": 9,
     "metadata": {},
     "output_type": "execute_result"
    }
   ],
   "source": [
    "A1 = [\n",
    "    2 -1 2;\n",
    "    1 2 -2;\n",
    "    2 2 2;\n",
    "]\n",
    "A2 = [\n",
    "    5 5 0;\n",
    "    -1 5 4;\n",
    "    2 3 8;\n",
    "]\n",
    "\n",
    "#Jacobi iteration: \n",
    "J_A1 = eye(3) - inv(diagm(diag(A1))) * A1 \n",
    "J_A2 = eye(3) - inv(diagm(diag(A2))) * A2\n",
    "\n",
    "#Gauss-Seidel:\n",
    "\n",
    "H_A1 = eye(3) - inv(tril(A1)) * A1\n",
    "H_A2 = eye(3) - inv(tril(A2)) * A2"
   ]
  },
  {
   "cell_type": "code",
   "execution_count": 14,
   "metadata": {},
   "outputs": [
    {
     "data": {
      "text/plain": [
       "false"
      ]
     },
     "execution_count": 14,
     "metadata": {},
     "output_type": "execute_result"
    }
   ],
   "source": [
    "maximum(abs.(eigvals(J_A1))) < 1"
   ]
  },
  {
   "cell_type": "code",
   "execution_count": 15,
   "metadata": {},
   "outputs": [
    {
     "data": {
      "text/plain": [
       "true"
      ]
     },
     "execution_count": 15,
     "metadata": {},
     "output_type": "execute_result"
    }
   ],
   "source": [
    "maximum(abs.(eigvals(J_A2))) < 1"
   ]
  },
  {
   "cell_type": "code",
   "execution_count": 16,
   "metadata": {},
   "outputs": [
    {
     "data": {
      "text/plain": [
       "true"
      ]
     },
     "execution_count": 16,
     "metadata": {},
     "output_type": "execute_result"
    }
   ],
   "source": [
    "maximum(abs.(eigvals(H_A1))) < 1"
   ]
  },
  {
   "cell_type": "code",
   "execution_count": 17,
   "metadata": {},
   "outputs": [
    {
     "data": {
      "text/plain": [
       "true"
      ]
     },
     "execution_count": 17,
     "metadata": {},
     "output_type": "execute_result"
    }
   ],
   "source": [
    "maximum(abs.(eigvals(H_A2))) < 1"
   ]
  },
  {
   "cell_type": "code",
   "execution_count": null,
   "metadata": {
    "collapsed": true
   },
   "outputs": [],
   "source": []
  }
 ],
 "metadata": {
  "kernelspec": {
   "display_name": "Julia 0.6.1",
   "language": "julia",
   "name": "julia-0.6"
  },
  "language_info": {
   "file_extension": ".jl",
   "mimetype": "application/julia",
   "name": "julia",
   "version": "0.6.1"
  }
 },
 "nbformat": 4,
 "nbformat_minor": 2
}
