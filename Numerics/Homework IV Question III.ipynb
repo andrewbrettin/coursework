{
 "cells": [
  {
   "cell_type": "code",
   "execution_count": 1,
   "metadata": {},
   "outputs": [
    {
     "data": {
      "text/plain": [
       "create_matrix (generic function with 1 method)"
      ]
     },
     "execution_count": 1,
     "metadata": {},
     "output_type": "execute_result"
    }
   ],
   "source": [
    "function create_matrix(m)\n",
    "    B = [ i == j        ?  4. :\n",
    "          abs(i-j) == 1 ? -1. : 0.\n",
    "              for i in 1:m, j in 1:m ]\n",
    "    A = zeros(m * m, m * m)\n",
    "\n",
    "    for i = 1:m\n",
    "        for j = 1:m\n",
    "            if i == j\n",
    "                A[m*(i - 1) + 1 : m*i, m*(j - 1) + 1: m*j] = B\n",
    "            elseif abs(i - j) == 1\n",
    "                A[m*(i - 1) + 1 : m*i, m*(j - 1) + 1: m*j] = -eye(m)            \n",
    "            end\n",
    "        end\n",
    "    end\n",
    "    \n",
    "    return A\n",
    "end"
   ]
  },
  {
   "cell_type": "code",
   "execution_count": 2,
   "metadata": {},
   "outputs": [
    {
     "data": {
      "text/plain": [
       "create_rhs (generic function with 1 method)"
      ]
     },
     "execution_count": 2,
     "metadata": {},
     "output_type": "execute_result"
    }
   ],
   "source": [
    "function create_rhs(m)\n",
    "    return ones(m * m)\n",
    "end"
   ]
  },
  {
   "cell_type": "code",
   "execution_count": 3,
   "metadata": {},
   "outputs": [
    {
     "data": {
      "text/plain": [
       "gradient_descent (generic function with 3 methods)"
      ]
     },
     "execution_count": 3,
     "metadata": {},
     "output_type": "execute_result"
    }
   ],
   "source": [
    "function gradient_descent(A, b, tol = 1e-8, max_iter = 20000)\n",
    "    m, n = size(A)\n",
    "    if m != n\n",
    "        error(\"Matrix not symmetric.\")\n",
    "    end\n",
    "    if n != length(b)\n",
    "        error(\"Right-hand side has incorrect size\")\n",
    "    end\n",
    "    \n",
    "    x = zeros(n)\n",
    "    r = b - A*x\n",
    "    \n",
    "    for k = 1:max_iter\n",
    "        t = A*r;\n",
    "        α = (transpose(r)*r)/(transpose(t)*r)\n",
    "        x = x + α*r\n",
    "        r = r - α*t\n",
    "    \n",
    "        #Convergence check\n",
    "        if (norm(r) / norm(x) <= tol)\n",
    "            return x, k\n",
    "        end\n",
    "    end\n",
    "    return x, k\n",
    "    error(\"Iterative scheme diverged\")\n",
    "end"
   ]
  },
  {
   "cell_type": "code",
   "execution_count": 4,
   "metadata": {},
   "outputs": [
    {
     "data": {
      "text/plain": [
       "conjugate_gradient (generic function with 3 methods)"
      ]
     },
     "execution_count": 4,
     "metadata": {},
     "output_type": "execute_result"
    }
   ],
   "source": [
    "function conjugate_gradient(A, b, tol = 1e-8, max_iter = 20000)\n",
    "     m, n = size(A)\n",
    "    if m != n\n",
    "        error(\"Matrix not symmetric.\")\n",
    "    end\n",
    "    if n != length(b)\n",
    "        error(\"Right-hand side has incorrect size\")\n",
    "    end\n",
    "    \n",
    "    x = zeros(n)\n",
    "    r = b - A*x\n",
    "    d = r\n",
    "    \n",
    "    for k = 1:max_iter\n",
    "        t = A*d\n",
    "        α = (transpose(r)*r)/(transpose(t)*d)\n",
    "        x = x + α*d\n",
    "        β = transpose(r)*r\n",
    "        r = r - α*t\n",
    "        γ = transpose(r)*r\n",
    "        d = r + (γ/β)*d\n",
    "        \n",
    "        #Convergence check\n",
    "        if (norm(r) / norm(x) <= tol)\n",
    "            return x, k\n",
    "        end\n",
    "    end\n",
    "    return x, k \n",
    "    error(\"Iterative scheme diverged\")\n",
    "end"
   ]
  },
  {
   "cell_type": "code",
   "execution_count": 5,
   "metadata": {},
   "outputs": [
    {
     "data": {
      "text/plain": [
       "PCG (generic function with 4 methods)"
      ]
     },
     "execution_count": 5,
     "metadata": {},
     "output_type": "execute_result"
    }
   ],
   "source": [
    "function PCG(A, b, ω=1, tol = 1e-8, max_iter = 20000)\n",
    "    m, n = size(A)\n",
    "    if m != n\n",
    "        error(\"Matrix not symmetric.\")\n",
    "    end\n",
    "    if n != length(b)\n",
    "        error(\"Right-hand side has incorrect size\")\n",
    "    end\n",
    "    \n",
    "    D = diagm(diag(A));\n",
    "    L = tril(A,-1)\n",
    "    R = triu(A,1)\n",
    "    C = (D + ω*L)*inv(D)*(D + ω*R)*(1/((2-ω)ω))\n",
    "    x = zeros(n)\n",
    "    r = b - A*x\n",
    "    ρ = C\\r\n",
    "    d = ρ\n",
    "    \n",
    "    for k = 1:max_iter\n",
    "        t = A*d\n",
    "        α = (transpose(r)*ρ)/(transpose(t)*d)\n",
    "        x = x + α*d\n",
    "        β = transpose(r)*ρ\n",
    "        r = r - α*t\n",
    "        ρ = C\\r\n",
    "        γ = transpose(r)*ρ\n",
    "        d = ρ + (γ/β)*d\n",
    "        #Convergence check\n",
    "        if (norm(r) / norm(x) <= tol)\n",
    "            return x, k\n",
    "        end\n",
    "    end\n",
    "end"
   ]
  },
  {
   "cell_type": "code",
   "execution_count": 6,
   "metadata": {
    "collapsed": true
   },
   "outputs": [],
   "source": [
    "m = [2^k for k = 1:5]\n",
    "k = zeros(5)\n",
    "gradient_descent_iterations = zeros(5)\n",
    "CG_iterations = zeros(5)\n",
    "PCG_iterations = zeros(5)\n",
    "for i in 1:5\n",
    "    A = create_matrix(m[i])\n",
    "    b = create_rhs(m[i])\n",
    "    gradient_descent_iterations[i] = gradient_descent(A, b)[2];\n",
    "    CG_iterations[i] = conjugate_gradient(A, b)[2];\n",
    "    PCG_iterations[i] = PCG(A, b)[2];\n",
    "end"
   ]
  },
  {
   "cell_type": "code",
   "execution_count": 36,
   "metadata": {},
   "outputs": [
    {
     "name": "stdout",
     "output_type": "stream",
     "text": [
      "[1.0, 60.0, 246.0, 896.0, 3193.0]\n",
      "[1.0, 3.0, 10.0, 26.0, 53.0]\n",
      "[3.0, 7.0, 11.0, 17.0, 29.0]\n"
     ]
    }
   ],
   "source": [
    "println(gradient_descent_iterations)\n",
    "println(CG_iterations)\n",
    "println(PCG_iterations)"
   ]
  },
  {
   "cell_type": "code",
   "execution_count": 37,
   "metadata": {},
   "outputs": [
    {
     "data": {
      "image/png": "[encoded data removed]",
      "text/plain": [
       "PyPlot.Figure(PyObject <matplotlib.figure.Figure object at 0x11e7a2c10>)"
      ]
     },
     "metadata": {},
     "output_type": "display_data"
    }
   ],
   "source": [
    "using PyPlot\n",
    "    plot(m, gradient_descent_iterations, label = \"Gradient Descent\", linestyle = \"\", \"+\")\n",
    "    plot(m, CG_iterations, label = \"Conjugate Gradient\", linestyle = \"\", \"+\")\n",
    "    plot(m, PCG_iterations, label = \"PCG\", linestyle = \"\", \"+\")\n",
    "legend();"
   ]
  }
 ],
 "metadata": {
  "kernelspec": {
   "display_name": "Julia 0.6.1",
   "language": "julia",
   "name": "julia-0.6"
  },
  "language_info": {
   "file_extension": ".jl",
   "mimetype": "application/julia",
   "name": "julia",
   "version": "0.6.1"
  }
 },
 "nbformat": 4,
 "nbformat_minor": 2
}
